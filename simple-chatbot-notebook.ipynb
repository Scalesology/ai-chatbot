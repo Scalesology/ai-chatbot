{
 "cells": [
  {
   "cell_type": "code",
   "execution_count": null,
   "id": "b0021d89-d9bc-49c4-a17a-d4bab0265a74",
   "metadata": {},
   "outputs": [],
   "source": [
    "#Importing necessary python modules\n",
    "import os \n",
    "from langchain import PromptTemplate, LLMChain\n",
    "from langchain.llms import LlamaCpp\n",
    "from langchain.callbacks.streaming_stdout import StreamingStdOutCallbackHandler\n",
    "from langchain.callbacks.manager import CallbackManager\n",
    "from langchain.text_splitter import RecursiveCharacterTextSplitter\n",
    "from langchain.document_loaders import PyPDFLoader\n",
    "from langchain.embeddings import HuggingFaceEmbeddings\n",
    "from langchain.vectorstores.faiss import FAISS"
   ]
  },
  {
   "cell_type": "code",
   "execution_count": null,
   "id": "d59cb906-af44-4b86-aeeb-613817666c3f",
   "metadata": {
    "collapsed": true,
    "jupyter": {
     "outputs_hidden": true
    },
    "tags": []
   },
   "outputs": [],
   "source": [
    "#Defining the Model Path\n",
    "model_path = 'models/llama-2-7b-chat.Q4_K_M.gguf' \n",
    "\n",
    "\n",
    "#Setting up Callbacks\n",
    "callback_manager = CallbackManager([StreamingStdOutCallbackHandler()])\n",
    "\n",
    "#Utilising the sentence transformer module from Hugging Face to generate embeddings\n",
    "embeddings = HuggingFaceEmbeddings(model_name='sentence-transformers/all-MiniLM-L6-v2')\n",
    "\n",
    "#Initializing the LLM object\n",
    "llm = LlamaCpp(model_path=model_path, callback_manager=callback_manager, verbose=True,n_ctx=2048, n_threads=6, n_batch=2048)"
   ]
  },
  {
   "cell_type": "code",
   "execution_count": null,
   "id": "dc2f8468",
   "metadata": {},
   "outputs": [],
   "source": [
    "def text_splitter(sources):\n",
    "    chunks = []\n",
    "    splitter = RecursiveCharacterTextSplitter(chunk_size=256, chunk_overlap=32)\n",
    "    for chunk in splitter.split_documents(sources):\n",
    "        chunks.append(chunk)\n",
    "    return chunks"
   ]
  },
  {
   "cell_type": "code",
   "execution_count": null,
   "id": "7633741c",
   "metadata": {},
   "outputs": [],
   "source": [
    "def create_faiss_index(chunks):\n",
    "    texts = [doc.page_content for doc in chunks]\n",
    "    meta_data = [doc.metadata for doc in chunks]\n",
    "\n",
    "    index = FAISS.from_texts(texts, embeddings, metadatas=meta_data)\n",
    "\n",
    "    return index"
   ]
  },
  {
   "cell_type": "code",
   "execution_count": null,
   "id": "a7cef30e-01b8-4f21-830b-9034111bab40",
   "metadata": {},
   "outputs": [],
   "source": [
    "local_data_path = \"local-data\"\n",
    "#This code is only for supporting PDF files but LangChain has support for multiple file types\n",
    "file_list = [filename for filename in os.listdir(local_data_path) if filename.endswith('.pdf')]\n",
    "len_docs = len(file_list)"
   ]
  },
  {
   "cell_type": "code",
   "execution_count": null,
   "id": "a5727785-3fb8-4b09-af45-064a15274d9a",
   "metadata": {},
   "outputs": [],
   "source": [
    "#Creating the Index for the first document in File List\n",
    "loader = PyPDFLoader(os.path.join(local_data_path, file_list[0]))\n",
    "docs = loader.load()\n",
    "chunks = text_splitter(docs)\n",
    "vectordb0 = create_faiss_index(chunks)"
   ]
  },
  {
   "cell_type": "code",
   "execution_count": null,
   "id": "9f392bac-4db5-4927-8eeb-21cd1fae8b10",
   "metadata": {},
   "outputs": [],
   "source": [
    "#Creating the index for all other documents in the list and merging it with the first vector index\n",
    "for i in range(1,len_docs):\n",
    "\n",
    "    loader = PyPDFLoader(os.path.join(local_data_path, file_list[i]))\n",
    "    docs = loader.load()\n",
    "    chunks = text_splitter(docs)\n",
    "    vectordb_i = create_faiss_index(chunks)\n",
    "    \n",
    "    vectordb0.merge_from(vectordb_i)\n",
    "\n",
    "vectordb0.save_local(\"Faiss_Vector_DB\")"
   ]
  },
  {
   "cell_type": "code",
   "execution_count": null,
   "id": "18033afd-a489-4cff-b96c-b33eb538bac6",
   "metadata": {},
   "outputs": [],
   "source": [
    "#Loading the previously saved Vector Database\n",
    "index = FAISS.load_local(\"Faiss_Vector_DB\", embeddings)\n",
    "\n",
    "#Initializing the retriever, Retrievers are responsible for fetching the most relevant context to given a user query\n",
    "retriever = index.as_retriever()\n",
    "\n",
    "# Create a sample prompt template\n",
    "template = \"\"\" You are a chatbot answering questions.\n",
    "Please use the following context to answer your questions.\n",
    "Context: {context}\n",
    "---\n",
    "Question: {question}\n",
    "Answer: \"\"\""
   ]
  },
  {
   "cell_type": "code",
   "execution_count": null,
   "id": "7a03fc32",
   "metadata": {},
   "outputs": [],
   "source": [
    "# Question\n",
    "question = \"Insert Your Question Here\""
   ]
  },
  {
   "cell_type": "code",
   "execution_count": null,
   "id": "c9ecd74b-2239-4edc-a959-367e6f2b1ff5",
   "metadata": {},
   "outputs": [],
   "source": [
    "\n",
    "#Querying the vector DB using the retriever\n",
    "docs = retriever.get_relevant_documents(question)\n",
    "# Creating the context for the LLM Chain\n",
    "context = \"\\n\".join([doc.page_content for doc in docs])\n",
    "# Initializing the Prompt Template and supplying the context\n",
    "prompt = PromptTemplate(template=template, input_variables=[\"context\", \"question\"]).partial(context=context)\n",
    "# Initializing the LLM Chain with the prompt template with the LLM\n",
    "llm_chain = LLMChain(prompt=prompt, llm=llm)\n",
    "#Run the Chain and Print a Response\n",
    "llm_chain.run(question)\n"
   ]
  }
 ],
 "metadata": {
  "kernelspec": {
   "display_name": "Python 3 (ipykernel)",
   "language": "python",
   "name": "python3"
  },
  "language_info": {
   "codemirror_mode": {
    "name": "ipython",
    "version": 3
   },
   "file_extension": ".py",
   "mimetype": "text/x-python",
   "name": "python",
   "nbconvert_exporter": "python",
   "pygments_lexer": "ipython3",
   "version": "3.10.11"
  }
 },
 "nbformat": 4,
 "nbformat_minor": 5
}
